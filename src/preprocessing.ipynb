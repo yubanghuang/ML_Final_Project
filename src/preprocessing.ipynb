{
 "cells": [
  {
   "cell_type": "code",
   "execution_count": 45,
   "metadata": {},
   "outputs": [],
   "source": [
    "import pandas as pd\n",
    "import numpy as np\n",
    "\n",
    "train_data = pd.read_csv(\"..\\\\Data\\\\train.csv\")\n",
    "test_data = pd.read_csv(\"..\\\\Data\\\\test.csv\")"
   ]
  },
  {
   "cell_type": "markdown",
   "metadata": {},
   "source": [
    "### 處理有 NaN 的 features\n",
    "- Train Set : \"Age\", \"Cabin\", **\"Embarked\"**\n",
    "- Test Set : \"Age\", \"Cabin\", **\"Fare\"**"
   ]
  },
  {
   "cell_type": "code",
   "execution_count": 46,
   "metadata": {},
   "outputs": [],
   "source": [
    "# Train Set\n",
    "## Age\n",
    "male_mean_age = train_data[(train_data[\"Age\"].notna()) & (train_data[\"Sex\"] == \"male\")][\"Age\"].mean()\n",
    "female_mean_age = train_data[(train_data[\"Age\"].notna()) & (train_data[\"Sex\"] == \"male\")][\"Age\"].mean()\n",
    "\n",
    "train_data.loc[(train_data[\"Age\"].isna()) & (train_data[\"Sex\"] == \"male\"), \"Age\"] = male_mean_age\n",
    "train_data.loc[(train_data[\"Age\"].isna()) & (train_data[\"Sex\"] == \"female\"), \"Age\"] = female_mean_age\n",
    "train_data[\"Age\"] = train_data[\"Age\"].astype(int)\n",
    "train_data[\"Age\"] = train_data[\"Age\"].apply(lambda x : x // 16)\n",
    "\n",
    "\n",
    "## Cabin\n",
    "train_data[\"Cabin\"] = train_data[\"Cabin\"].notna().astype(int)\n",
    "\n",
    "## Embarked\n",
    "train_data['Embarked'] = train_data['Embarked'].fillna('S')\n",
    "\n",
    "# Fare\n",
    "train_data[\"Fare\"] = train_data[\"Fare\"].astype(int)\n",
    "\n",
    "## other\n",
    "train_data['FamilySize'] = train_data['SibSp'] + train_data['Parch'] + 1\n",
    "train_data['Sex'] = train_data['Sex'].map({'male':0, 'female':1})\n",
    "train_data['Embarked'] = train_data['Embarked'].map({'C':0, 'Q':1, 'S':2})\n",
    "train_data['Alone'] = np.where(train_data['FamilySize'] <= 1, 1, 0)\n",
    "\n",
    "# Test Set\n",
    "## Age\n",
    "test_data.loc[(test_data[\"Age\"].isna()) & (test_data[\"Sex\"] == \"male\"), \"Age\"] = male_mean_age\n",
    "test_data.loc[(test_data[\"Age\"].isna()) & (test_data[\"Sex\"] == \"female\"), \"Age\"] = female_mean_age\n",
    "test_data[\"Age\"] = test_data[\"Age\"].astype(int)\n",
    "test_data[\"Age\"] = test_data[\"Age\"].apply(lambda x : x // 16)\n",
    "\n",
    "# Cabin\n",
    "test_data[\"Cabin\"] = test_data[\"Cabin\"].notna().astype(int)\n",
    "\n",
    "# Fare\n",
    "fare_mean = train_data[\"Fare\"].mean()\n",
    "test_data[\"Fare\"] = test_data[\"Fare\"].fillna(fare_mean).astype(int)\n",
    "\n",
    "## other\n",
    "test_data['FamilySize'] = test_data['SibSp'] + test_data['Parch'] + 1\n",
    "test_data['Sex'] = test_data['Sex'].map({'male':0, 'female':1})\n",
    "test_data['Embarked'] = test_data['Embarked'].map({'C':0, 'Q':1, 'S':2})\n",
    "test_data['Alone'] = np.where(test_data['FamilySize'] <= 1, 1, 0)"
   ]
  },
  {
   "cell_type": "markdown",
   "metadata": {},
   "source": [
    "## \n"
   ]
  },
  {
   "cell_type": "code",
   "execution_count": 47,
   "metadata": {},
   "outputs": [],
   "source": [
    "train_data.drop(columns=[\"Name\",\"Ticket\"]).to_csv(\"train_data.csv\",index=False)\n",
    "test_data.drop(columns=[\"Name\",\"Ticket\"]).to_csv(\"test_data.csv\",index=False)"
   ]
  }
 ],
 "metadata": {
  "kernelspec": {
   "display_name": "py_scikit",
   "language": "python",
   "name": "python3"
  },
  "language_info": {
   "codemirror_mode": {
    "name": "ipython",
    "version": 3
   },
   "file_extension": ".py",
   "mimetype": "text/x-python",
   "name": "python",
   "nbconvert_exporter": "python",
   "pygments_lexer": "ipython3",
   "version": "3.9.20"
  }
 },
 "nbformat": 4,
 "nbformat_minor": 2
}
